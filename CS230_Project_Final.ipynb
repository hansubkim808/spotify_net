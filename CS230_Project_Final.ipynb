{
  "nbformat": 4,
  "nbformat_minor": 0,
  "metadata": {
    "colab": {
      "name": "CS230_Project_Final.ipynb",
      "provenance": [],
      "collapsed_sections": [],
      "include_colab_link": true
    },
    "kernelspec": {
      "name": "python3",
      "display_name": "Python 3"
    }
  },
  "cells": [
    {
      "cell_type": "markdown",
      "metadata": {
        "id": "view-in-github",
        "colab_type": "text"
      },
      "source": [
        "<a href=\"https://colab.research.google.com/github/hansubkim808/spotify_net/blob/main/CS230_Project_Final.ipynb\" target=\"_parent\"><img src=\"https://colab.research.google.com/assets/colab-badge.svg\" alt=\"Open In Colab\"/></a>"
      ]
    },
    {
      "cell_type": "code",
      "metadata": {
        "id": "FX3rvf4QbLUh",
        "outputId": "1e5ea6a8-e6d6-4ca6-9c52-40d701a8db2b",
        "colab": {
          "base_uri": "https://localhost:8080/"
        }
      },
      "source": [
        "pip install spotipy"
      ],
      "execution_count": null,
      "outputs": [
        {
          "output_type": "stream",
          "text": [
            "Collecting spotipy\n",
            "  Downloading https://files.pythonhosted.org/packages/7a/cd/e7d9a35216ea5bfb9234785f3d8fa7c96d0e33999c2cb72394128f6b4cce/spotipy-2.16.1-py3-none-any.whl\n",
            "Requirement already satisfied: six>=1.10.0 in /usr/local/lib/python3.6/dist-packages (from spotipy) (1.15.0)\n",
            "Requirement already satisfied: requests>=2.20.0 in /usr/local/lib/python3.6/dist-packages (from spotipy) (2.23.0)\n",
            "Requirement already satisfied: certifi>=2017.4.17 in /usr/local/lib/python3.6/dist-packages (from requests>=2.20.0->spotipy) (2020.6.20)\n",
            "Requirement already satisfied: chardet<4,>=3.0.2 in /usr/local/lib/python3.6/dist-packages (from requests>=2.20.0->spotipy) (3.0.4)\n",
            "Requirement already satisfied: urllib3!=1.25.0,!=1.25.1,<1.26,>=1.21.1 in /usr/local/lib/python3.6/dist-packages (from requests>=2.20.0->spotipy) (1.24.3)\n",
            "Requirement already satisfied: idna<3,>=2.5 in /usr/local/lib/python3.6/dist-packages (from requests>=2.20.0->spotipy) (2.10)\n",
            "Installing collected packages: spotipy\n",
            "Successfully installed spotipy-2.16.1\n"
          ],
          "name": "stdout"
        }
      ]
    },
    {
      "cell_type": "markdown",
      "metadata": {
        "id": "kAJbM-YQBg6Y"
      },
      "source": [
        "# **Setup**"
      ]
    },
    {
      "cell_type": "code",
      "metadata": {
        "id": "uIw6rMnQb29J"
      },
      "source": [
        "import os\n",
        "\n",
        "os.environ['SPOTIPY_CLIENT_ID']='a78e6d0e2ed240d2813c130a3e848194'\n",
        "os.environ['SPOTIPY_CLIENT_SECRET']='74ceb730c73b41a98fbfdb4bda9a121d'\n",
        "os.environ['SPOTIPY_REDIRECT_URI']='https://developer.spotify.com/dashboard/applications/a78e6d0e2ed240d2813c130a3e848194'"
      ],
      "execution_count": null,
      "outputs": []
    },
    {
      "cell_type": "code",
      "metadata": {
        "id": "FY-epE_Ub6xS"
      },
      "source": [
        "import spotipy\n",
        "import sys\n",
        "import spotipy.util as util\n",
        "from spotipy.oauth2 import SpotifyClientCredentials\n",
        "import numpy as np\n",
        "import tensorflow as tf\n",
        "import matplotlib.pyplot as plt\n",
        "from tensorflow import keras\n",
        "from keras import Model\n",
        "from numpy import linalg as LA\n",
        "import pandas as pd \n",
        "from statistics import mean, mode "
      ],
      "execution_count": null,
      "outputs": []
    },
    {
      "cell_type": "code",
      "metadata": {
        "id": "fo34nmPRcEyM"
      },
      "source": [
        "sp = spotipy.Spotify(auth_manager=SpotifyClientCredentials())\n"
      ],
      "execution_count": null,
      "outputs": []
    },
    {
      "cell_type": "markdown",
      "metadata": {
        "id": "EkioZnvceOpi"
      },
      "source": [
        "# **Helper Functions**"
      ]
    },
    {
      "cell_type": "markdown",
      "metadata": {
        "id": "1-4ZlTJx-_4C"
      },
      "source": [
        "**get_artist_ids:**\n",
        "This function retrieves spotify artist IDs from a list of artists defined by the user"
      ]
    },
    {
      "cell_type": "code",
      "metadata": {
        "id": "0IbDMZoT-WI8"
      },
      "source": [
        "def get_artist_ids(artists):\n",
        "\n",
        "  artist_ids = []\n",
        "  artist_names = []\n",
        "\n",
        "  for artist in artists:\n",
        "    artist_results = sp.search(artist, type='artist')\n",
        "    artist_name = artist_results['artists']['items'][0]['name']\n",
        "    artist_id = artist_results['artists']['items'][0]['id']\n",
        "    if artist_name in artist_names:\n",
        "      continue\n",
        "    else:\n",
        "      artist_names.append(artist_name)\n",
        "      artist_ids.append(artist_id)\n",
        "\n",
        "  return artist_ids, artist_names"
      ],
      "execution_count": null,
      "outputs": []
    },
    {
      "cell_type": "markdown",
      "metadata": {
        "id": "9Kz_R3ta_TuT"
      },
      "source": [
        "**get_album_ids:**\n",
        "This function creates a list of spotify album IDs from a list of artist IDs passed into the function"
      ]
    },
    {
      "cell_type": "code",
      "metadata": {
        "id": "A3ygXyED-4YB"
      },
      "source": [
        "def get_album_ids(artist_ids):\n",
        "\n",
        "  album_ids = []\n",
        "  album_names = []\n",
        "\n",
        "  for artist_id in artist_ids:\n",
        "    album_results = sp.artist_albums(artist_id, limit=50)\n",
        "    for album in album_results['items']:\n",
        "      album_id = album['id']\n",
        "      album_name = album['name']\n",
        "      if album_name in album_names:\n",
        "        continue\n",
        "      else:\n",
        "        album_names.append(album_name)\n",
        "        album_ids.append(album_id)\n",
        "\n",
        "  return album_ids, album_names"
      ],
      "execution_count": null,
      "outputs": []
    },
    {
      "cell_type": "markdown",
      "metadata": {
        "id": "qTvoocGP_oCL"
      },
      "source": [
        "**get_track_ids:**\n",
        "This function createds a list of spotify track IDs from a list of album IDs passed into the function"
      ]
    },
    {
      "cell_type": "code",
      "metadata": {
        "id": "jLRg5DAN-8Tz"
      },
      "source": [
        "def get_track_ids(album_ids):\n",
        "\n",
        "  track_ids = []\n",
        "  track_names = []\n",
        "\n",
        "  for album_id in album_ids:\n",
        "    track_results = sp.album_tracks(album_id, limit=50)\n",
        "    for track in track_results['items']:\n",
        "      track_id = track['id']\n",
        "      track_name = track['name']\n",
        "      if track_name in track_names:\n",
        "        continue\n",
        "      else:\n",
        "        track_names.append(track_id)\n",
        "        track_ids.append(track_name)\n",
        "\n",
        "  return track_ids, track_names"
      ],
      "execution_count": null,
      "outputs": []
    },
    {
      "cell_type": "markdown",
      "metadata": {
        "id": "AkPssm_fRo8E"
      },
      "source": [
        "**get_tracks_from_artist_ids:**\n",
        "    Given a list of artist ids, creates a master list of every single track\n",
        "    from all the artists, as well as the track ids. Combines all 3 functions above. Working example code available in the other colab notebook\n"
      ]
    },
    {
      "cell_type": "code",
      "metadata": {
        "id": "dlFwYn4SkM8G"
      },
      "source": [
        "def get_tracks_from_artist_ids(artist_ids): # takes in a list of artists \n",
        "\n",
        "  all_album_ids = []\n",
        "  all_album_titles = []\n",
        "\n",
        "  # Grab all albums from each artist\n",
        "  for id in artist_ids:\n",
        "    albums = sp.artist_albums(id)\n",
        "    album_titles = [albums['items'][i]['name'] for i in range(len(albums))]\n",
        "    album_ids = [albums['items'][i]['id'] for i in range(len(albums))]\n",
        "    all_album_ids.extend(album_ids)\n",
        "    all_album_titles.extend(album_titles)\n",
        "\n",
        "  all_track_ids = []\n",
        "  all_track_names = []\n",
        "\n",
        "  # Grab all tracks in each album\n",
        "  for i in range(len(all_album_ids)):\n",
        "    album = all_album_ids[i]\n",
        "    album_tracks = sp.album_tracks(album)\n",
        "    album_track_ids = [album_tracks['items'][j]['id'] for j in range(album_tracks['total'])]\n",
        "    album_track_names = [album_tracks['items'][k]['name'] for k in range(album_tracks['total'])]\n",
        "    all_track_ids.extend(album_track_ids)\n",
        "    all_track_names.extend(album_track_names)\n",
        "  \n",
        "  # Remove duplicates \n",
        "  tracks_dict = {all_track_ids[i] : all_track_names[i] for i in range(len(all_track_ids))}\n",
        "  temp = {val : key for key, val in tracks_dict.items()} \n",
        "  res = {val : key for key, val in temp.items()} \n",
        "  total_track_ids = list(res.keys())\n",
        "  total_track_names = list(res.values())\n",
        "\n",
        "  return all_album_titles, all_album_ids, total_track_names, total_track_ids\n"
      ],
      "execution_count": null,
      "outputs": []
    },
    {
      "cell_type": "code",
      "metadata": {
        "id": "V34ClZg1imow"
      },
      "source": [
        "\"\"\"\n",
        "    Returns the artist, given track ID. \n",
        "\n",
        "    This adds 1 parameter to the existing 0\n",
        "\n",
        "    TOTAL: 1\n",
        "\"\"\"\n",
        "\n",
        "# INCOMPLETE \n",
        "\n",
        "\n",
        "def get_artists(track_ids):\n",
        "  return artists_df\n"
      ],
      "execution_count": null,
      "outputs": []
    },
    {
      "cell_type": "markdown",
      "metadata": {
        "id": "5hLlTsEJSU0c"
      },
      "source": [
        "**get_sp_audio_features:** Returns 13 audio feature parameters for each track_id in the master list of track_ids. This adds 13 parameters to the existing 1 (Total: 14) "
      ]
    },
    {
      "cell_type": "code",
      "metadata": {
        "id": "IsbT3cETiO67"
      },
      "source": [
        "def get_sp_audio_features(track_ids):\n",
        "  audio_features = [sp.audio_features(id) for id in track_ids]\n",
        "  feature_dicts = [elem[0] for elem in audio_features] # remove list wrapper, leave dict intact\n",
        "  audio_feature_df = pd.DataFrame(feature_dicts) # organize into a table \n",
        "  audio_feature_df = audio_feature_df.drop(['type', 'id', 'uri', 'track_href', 'analysis_url'], axis=1) # remove irrelevant columns\n",
        "\n",
        "  return audio_feature_df"
      ],
      "execution_count": null,
      "outputs": []
    },
    {
      "cell_type": "markdown",
      "metadata": {
        "id": "T2_Qn88ZSdzv"
      },
      "source": [
        "**get_analysis_segments:** Spotify audio analysis (from the API) contains important mathematical info about the track in the \"segments\" section. This function isolates the \"segments\" section from the rest of the audio_analysis beacuse it is computationally expensive to calculate in a loop. "
      ]
    },
    {
      "cell_type": "code",
      "metadata": {
        "id": "hwvpym2xsRv4"
      },
      "source": [
        "def get_analysis_segments(track_ids):\n",
        "  audio_analysis = [sp.audio_analysis(id) for id in track_ids] # get audio analysis for each track in list of tracks\n",
        "  track_segments = [audio_analysis[i]['segments'] for i in range(len(audio_analysis))] # get 'segments' portion of audio analysis for each track\n",
        "\n",
        "  return track_segments\n"
      ],
      "execution_count": null,
      "outputs": []
    },
    {
      "cell_type": "markdown",
      "metadata": {
        "id": "oYRwlhF4Sq6i"
      },
      "source": [
        "**get_pitches:** Given a list of segments (each track id corresponds to 1 segment): Extracts a dictionary corresponding to the relative prominence of the pitch of each note (from C to C). A dataframe is formed from this list of dicts, to be appended later to the other parameter dataframes. This adds 12 parameters to the existing 14. (Total: 26)\n"
      ]
    },
    {
      "cell_type": "code",
      "metadata": {
        "id": "RKKrm_wfiSON"
      },
      "source": [
        "# INCOMPLETE \n",
        "\n",
        "def get_pitches(track_segments):\n",
        "  note_index = ['C', 'C#', 'D', 'D#', 'E', 'F', 'F#', 'G', 'G#', 'A', 'A#', 'B']\n",
        "\n",
        "  all_pitches = []\n",
        "\n",
        "  for i in range(len(track_segments)):\n",
        "    segment = track_segments[i]\n",
        "    pitches = [segment[j]['pitches'] for j in range(len(segment))]\n",
        "    chroma_vector = []\n",
        "    for k in range(len(pitches[0])):\n",
        "      chroma_vector.append(mean(pitch_vec[k] for pitch_vec in pitches))\n",
        "    chroma_dict = {note_index[n]: chroma_vector[n] for n in range(len(note_index))}  \n",
        "    dominant_overall_pitch = sorted(chroma_vector)[-1]\n",
        "    #top_pitch_note = chroma_dict[dominant_overall_pitch]\n",
        "    #top_note_dict[top_pitch_note] = dominant_overall_pitch\n",
        "    all_pitches.append(chroma_dict)\n",
        "\n",
        "  pitches_df = pd.DataFrame(all_pitches)\n",
        "\n",
        "  return pitches_df"
      ],
      "execution_count": null,
      "outputs": []
    },
    {
      "cell_type": "markdown",
      "metadata": {
        "id": "jok81Sn6S_el"
      },
      "source": [
        "**get_timbres:** Given a list of segmgnets (each track id corresponds to 1 segment): Extracts a dictionary corresponding to the relative prominence of each timbre quality (1 thru 12). A dataframe is formed from this list of dicts, to be appended later to the other parameter dataframes. This adds 12 parameters to the existing 26 (Total: 38) "
      ]
    },
    {
      "cell_type": "code",
      "metadata": {
        "id": "51sSePUCikWu"
      },
      "source": [
        "# INCOMPLETE \n",
        "\n",
        "def get_timbres(track_segments):\n",
        "\n",
        "  all_timbres = []\n",
        "  timbre_labels = ['Loudness', 'Brightness', 'Flatness', 'Strength of Attack', 'T5', 'T6', 'T7', 'T8', 'T9', 'T10', 'T11', 'T12']\n",
        "  for i in range(len(track_segments)):\n",
        "    segment = track_segments[i]\n",
        "    timbres = [segment[j]['timbre'] for j in range(len(segment))]\n",
        "    overall_timbre = []\n",
        "    for k in range(len(timbres[0])):\n",
        "      overall_timbre.append(mean(timbre_vec[k] for timbre_vec in timbres))\n",
        "    timbre_dict = {timbre_labels[i] : overall_timbre[i] for i in range(len(timbre_labels))}\n",
        "    all_timbres.append(timbre_dict)\n",
        "  timbres_df = pd.DataFrame(all_timbres)\n",
        "\n",
        "  return timbres_df"
      ],
      "execution_count": null,
      "outputs": []
    },
    {
      "cell_type": "markdown",
      "metadata": {
        "id": "p5DEoquQTRoc"
      },
      "source": [
        "# **Preprocessing**"
      ]
    },
    {
      "cell_type": "code",
      "metadata": {
        "id": "TZxpfglie9Lf",
        "outputId": "62b364a1-b45e-4f86-e007-6d1c59e8d08a",
        "colab": {
          "base_uri": "https://localhost:8080/",
          "height": 132
        }
      },
      "source": [
        "# INCOMPLETE\n",
        "\n",
        "def get_input_features(track_ids)\n",
        "  artists_df = get_artist(track_ids)\n",
        "  audio_feature_df = get_sp_audio_features(track_ids)\n",
        "  track_segments = get_analysis_segments(track_ids)\n",
        "  pitches_df = get_pitches(track_segments)\n",
        "  timbres_df = get_timbres(track_segments)\n",
        "  full_input_features_df = pd.concat([artists_df, audio_feature_df, pitches_df, timbres_df], axis=1)\n",
        "  return full_input_features_df"
      ],
      "execution_count": null,
      "outputs": [
        {
          "output_type": "error",
          "ename": "SyntaxError",
          "evalue": "ignored",
          "traceback": [
            "\u001b[0;36m  File \u001b[0;32m\"<ipython-input-14-2d0527c7dd8d>\"\u001b[0;36m, line \u001b[0;32m3\u001b[0m\n\u001b[0;31m    def get_input_features(track_ids)\u001b[0m\n\u001b[0m                                     ^\u001b[0m\n\u001b[0;31mSyntaxError\u001b[0m\u001b[0;31m:\u001b[0m invalid syntax\n"
          ]
        }
      ]
    },
    {
      "cell_type": "code",
      "metadata": {
        "id": "fWscxo73fGit"
      },
      "source": [
        "# INCOMPLETE\n",
        "# Returns a list of labels given a list of track ids\n",
        "def get_labels(track_ids)\n",
        "  return labels"
      ],
      "execution_count": null,
      "outputs": []
    },
    {
      "cell_type": "code",
      "metadata": {
        "id": "igomPAYDeuB8"
      },
      "source": [
        "# COMPLETE\n",
        "# Formalizes dataset\n",
        "def get_dataset(track_ids)\n",
        "  X = get_input_features(track_ids)\n",
        "  Y = get_labels(track_ids)\n",
        "  return X,Y"
      ],
      "execution_count": null,
      "outputs": []
    },
    {
      "cell_type": "code",
      "metadata": {
        "id": "odwg0jcOe5uk"
      },
      "source": [
        "# Splits up train, test, val from X,y, returns dictionary of all\n",
        "def split_train_and_test (X,Y)\n",
        "  train_size = len(x)*7/10\n",
        "  #split em up:\n",
        "  x_train = \n",
        "  y_train = \n",
        "  x_test = \n",
        "  y_test = \n",
        "  x_val =\n",
        "  y_val =\n",
        "\n",
        "  data_dict =  {\n",
        "  \"X\": X,\n",
        "  \"Y\": Y,\n",
        "  \"x_train\": x_train,\n",
        "  \"y_train\": y_train,\n",
        "  \"x_test\": x_test,\n",
        "  \"y_test\": y_test,\n",
        "  \"x_val\" : x_val,\n",
        "  \"y_val\": y_val\n",
        "  }\n",
        "  return data_dict"
      ],
      "execution_count": null,
      "outputs": []
    },
    {
      "cell_type": "markdown",
      "metadata": {
        "id": "22SoV61qo68c"
      },
      "source": [
        "# **Deep Learning**"
      ]
    },
    {
      "cell_type": "markdown",
      "metadata": {
        "id": "yCnFf-VZRPsT"
      },
      "source": [
        "**Get list of track IDs to extract data from for input**"
      ]
    },
    {
      "cell_type": "code",
      "metadata": {
        "id": "jQUuIpQYRGvW",
        "outputId": "949e7e00-e4f1-432f-b83d-e1c2bdbe13ad",
        "colab": {
          "base_uri": "https://localhost:8080/"
        }
      },
      "source": [
        "# List of 50 most popular artists and 50 most underrated artists.\n",
        "artists = ['Post Malone', 'Duke Deuce', 'Drake', 'Lil Nas X', 'Travis Scott', 'Juice WRLD', 'DaBaby', 'Cardi B',\n",
        "           'Lil Baby', 'Meek Mill', 'A Boogie Wit da Hoodie', 'Tee Grizzley', '21 Savage', 'SOB X RBE',\n",
        "           'Chris Brown', 'Kodak Black', 'J. Cole', 'Young Thug', 'Lil Tecca', 'YoungBoy Never Broke Again',\n",
        "           'YNW Melly', '9lokknine', 'Swae Lee', 'Eminem', 'NF', 'DJ Khaled', 'Offset', 'Lil Wayne',\n",
        "           'Tyler, The Creator', 'Future', 'Blueface', 'Gunna', 'Nipsey Hussle', 'Mustard',\n",
        "           'Megan Thee Stallion', 'Lil Uzi Vert', 'Polo G', '6ix9ine', 'City Girls', 'Trippie Redd',\n",
        "           'Kanye West', 'Sheck Wes', 'Gucci Mane', 'Doe Boy', 'Migos', 'Roddy Ricch', 'Calboy',\n",
        "           'Nicki Minaj', 'Kendrick Lamar', 'King Von', 'Jackboy', 'Shootergang Kony', '1takejay',\n",
        "           'Lil Durk', 'Lil Keed', 'Lil Gotit', 'OMB Peezy', 'Foogiano', 'Big Scarr',\n",
        "           'Action Pack', 'Pooh Shiesty', 'Pop Smoke', 'Fivio Foreign', '22Gz', 'K Shiday', 'Mulatto',\n",
        "           '24kGoldn', 'Rich Homie Quan', 'Key Glock', 'Young Dolph', 'ABG Neal', '42 Dugg',\n",
        "           'Cash Kidd', 'Bfb Da Packman', 'Teejayx6', 'Kasher Quon', 'Sada Baby', 'Drakeo the Ruler',\n",
        "           'AzChike', '$tupid Young', 'Pacman da Gunman', 'Rio Da Yung Og', 'BlueBucksClan', 'Lil Zay Osama', 'Lil Poppa',\n",
        "           '600 Breezy', 'Sheff G', 'Sleepy Hallow', 'Yungeen Ace', 'JayDaYoungan', 'Playboi Carti', 'UnoTheActivist',\n",
        "           'Thouxanbanfauni', 'Blocboy JB', 'NLE Choppa', 'Rod Wave', 'Quando Rondo', 'Slatt Zy']\n",
        "\n",
        "artist_ids, artist_names = get_artist_ids(artists)\n",
        "album_ids, album_names = get_album_ids(artist_ids)\n",
        "track_ids, track_names = get_track_ids(album_ids)\n",
        "print(len(track_ids))"
      ],
      "execution_count": null,
      "outputs": [
        {
          "output_type": "stream",
          "text": [
            "24553\n"
          ],
          "name": "stdout"
        }
      ]
    },
    {
      "cell_type": "code",
      "metadata": {
        "id": "Uqb6h5Qdlkde",
        "outputId": "2a1ddf59-f8a7-4793-94bb-bc0d9d6cc76b",
        "colab": {
          "base_uri": "https://localhost:8080/",
          "height": 238
        }
      },
      "source": [
        "# TODO: build the specified model, see its summary\n",
        "in_size = X.shape[1]\n",
        "out_size = X.shape[1]\n",
        "batch_size = 32\n",
        "hidden_layer_size = batch_size\n",
        "model = keras.Sequential()\n",
        "model.add(keras.layers.Dense(hidden_layer_size,input_dim=in_size,activation='relu',kernel_initializer='he_normal'))\n",
        "model.add(keras.layers.Dense(out_size,input_dim=hidden_layer_size,kernel_initializer='he_normal'))\n",
        "model.summary()"
      ],
      "execution_count": null,
      "outputs": [
        {
          "output_type": "error",
          "ename": "NameError",
          "evalue": "ignored",
          "traceback": [
            "\u001b[0;31m---------------------------------------------------------------------------\u001b[0m",
            "\u001b[0;31mNameError\u001b[0m                                 Traceback (most recent call last)",
            "\u001b[0;32m<ipython-input-8-32464dc7065d>\u001b[0m in \u001b[0;36m<module>\u001b[0;34m()\u001b[0m\n\u001b[1;32m      1\u001b[0m \u001b[0;31m# TODO: build the specified model, see its summary\u001b[0m\u001b[0;34m\u001b[0m\u001b[0;34m\u001b[0m\u001b[0;34m\u001b[0m\u001b[0m\n\u001b[0;32m----> 2\u001b[0;31m \u001b[0min_size\u001b[0m \u001b[0;34m=\u001b[0m \u001b[0mX\u001b[0m\u001b[0;34m.\u001b[0m\u001b[0mshape\u001b[0m\u001b[0;34m[\u001b[0m\u001b[0;36m1\u001b[0m\u001b[0;34m]\u001b[0m\u001b[0;34m\u001b[0m\u001b[0;34m\u001b[0m\u001b[0m\n\u001b[0m\u001b[1;32m      3\u001b[0m \u001b[0mout_size\u001b[0m \u001b[0;34m=\u001b[0m \u001b[0mX\u001b[0m\u001b[0;34m.\u001b[0m\u001b[0mshape\u001b[0m\u001b[0;34m[\u001b[0m\u001b[0;36m1\u001b[0m\u001b[0;34m]\u001b[0m\u001b[0;34m\u001b[0m\u001b[0;34m\u001b[0m\u001b[0m\n\u001b[1;32m      4\u001b[0m \u001b[0mbatch_size\u001b[0m \u001b[0;34m=\u001b[0m \u001b[0;36m32\u001b[0m\u001b[0;34m\u001b[0m\u001b[0;34m\u001b[0m\u001b[0m\n\u001b[1;32m      5\u001b[0m \u001b[0mhidden_layer_size\u001b[0m \u001b[0;34m=\u001b[0m \u001b[0mbatch_size\u001b[0m\u001b[0;34m\u001b[0m\u001b[0;34m\u001b[0m\u001b[0m\n",
            "\u001b[0;31mNameError\u001b[0m: name 'X' is not defined"
          ]
        }
      ]
    },
    {
      "cell_type": "code",
      "metadata": {
        "id": "iveCwhnu8of5"
      },
      "source": [
        "# TODO: Train the model, feel free to insert more cells\n",
        "model.compile(optimizer=tf.keras.optimizers.Adam(.01), loss = 'mean_squared_error')\n",
        "history = model.fit(x,y,batch_size=batch_size,epochs = 100, verbose = 0)\n",
        "plt.plot(history.history['loss'], label='training')\n",
        "plt.title('Training Loss')\n",
        "plt.ylabel('MSE loss')\n",
        "plt.xlabel('No. epoch')\n",
        "plt.legend()\n",
        "plt.show()"
      ],
      "execution_count": null,
      "outputs": []
    },
    {
      "cell_type": "code",
      "metadata": {
        "id": "aoE_xCwapXKF"
      },
      "source": [
        ""
      ],
      "execution_count": null,
      "outputs": []
    }
  ]
}